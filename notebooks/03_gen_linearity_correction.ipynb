{
 "cells": [
  {
   "cell_type": "code",
   "execution_count": 1,
   "id": "intellectual-cattle",
   "metadata": {},
   "outputs": [],
   "source": [
    "# Import the usual libraries\n",
    "import numpy as np\n",
    "import matplotlib\n",
    "import matplotlib.pyplot as plt\n",
    "import matplotlib.patches as mpatches\n",
    "\n",
    "# Enable inline plotting\n",
    "%matplotlib inline"
   ]
  },
  {
   "cell_type": "markdown",
   "id": "cardiac-processor",
   "metadata": {},
   "source": [
    "# Linearity Correction\n",
    "\n",
    "Example notebook to generate a non-linearity correction function. The general idea is to use sample-up-the-ramp data to determine a flux-dependent correction factor that linearizes the ramps. The final product is a set of polynomial coefficents that represent the correction function. In principle, this can be accomplished independently for every pixel in the array, but for simplicity, this notebook determines a single correction function that is used for every light-sensitive pixel (e.g., excludes reference pixels)."
   ]
  },
  {
   "cell_type": "code",
   "execution_count": 2,
   "id": "preceding-queen",
   "metadata": {},
   "outputs": [],
   "source": [
    "# Reference pixel correction modules and functions\n",
    "import ref_pixels\n",
    "from ref_pixels import robust\n",
    "from ref_pixels import reffix_hxrg, get_fits_data\n",
    "from ref_pixels import jl_poly_fit, jl_poly\n",
    "\n",
    "from ref_pixels.utils import find_sat, cube_fit, hist_indices\n",
    "\n",
    "# Astropy FITS\n",
    "from astropy.io import fits\n",
    "\n",
    "# Progress bar\n",
    "from tqdm.auto import trange, tqdm"
   ]
  },
  {
   "cell_type": "code",
   "execution_count": 3,
   "id": "detected-denver",
   "metadata": {},
   "outputs": [],
   "source": [
    "def gen_average_ramp(allfiles, det, bias=None, deg=2, **kwargs):\n",
    "    \"\"\" Crete an averaged data cube from all FITS cubes \"\"\"\n",
    "    \n",
    "    nfiles = len(allfiles)\n",
    "\n",
    "    # Time array\n",
    "    tarr = det.times_group_avg\n",
    "    \n",
    "    data_mean = np.zeros([nz, ny, nx])\n",
    "    for fname in tqdm(allfiles):\n",
    "        # Read in data\n",
    "        data = get_fits_data(fname, bias=bias, reffix=True, **kwargs)\n",
    "        # Perform fit to 50% saturation\n",
    "        cf = cube_fit(tarr, data, sat_frac=0.5, deg=deg, ref_info=det.ref_info)\n",
    "        # Subtract bias offset image\n",
    "        data -= cf[0]\n",
    "        \n",
    "        data_mean += data\n",
    "\n",
    "    # Take average\n",
    "    data_mean /= nfiles\n",
    "    \n",
    "    return data_mean"
   ]
  },
  {
   "cell_type": "code",
   "execution_count": 4,
   "id": "direct-range",
   "metadata": {},
   "outputs": [],
   "source": [
    "def gen_lincorr(data_cube, det, return_binvals=False):\n",
    "    \"\"\" Create a linearity correction function. \n",
    "    \n",
    "    This produces a set of polynomial coefficients that are used to generate\n",
    "    a correction factor based on measured flux values (after bias subtration\n",
    "    and reference pixel correction).\n",
    "    \n",
    "    The assumes all pixels have the same non-linearity function. While not\n",
    "    necessarily true, creating independent corrections for each pixel can be\n",
    "    rather challenging. The method showcased here produces corrected data that \n",
    "    is >99% linear.\n",
    "    \"\"\"\n",
    "    \n",
    "    # Time array\n",
    "    tarr = det.times_group_avg\n",
    "    \n",
    "    # Active and reference pixel masks\n",
    "    mask_act = det.mask_act\n",
    "    \n",
    "    # Get saturation values for each pixel\n",
    "    sat_vals = find_sat(data_cube, ref_info=det.ref_info)\n",
    "    \n",
    "    # Fit linear regime of all pixels to get coefficients\n",
    "    # cf_all = cube_fit(tarr, data_cube, sat_vals=sat_vals, sat_frac=0.25, fit_zero=True, deg=1)\n",
    "    cf_all = cube_fit(tarr[1:], data_cube[1:], sat_vals=sat_vals, sat_frac=0.5, fit_zero=True, deg=2)\n",
    "    \n",
    "    # Generate a ramp of ideal linear data from fit coefficients\n",
    "    data_fit = jl_poly(tarr, cf_all[0:2])\n",
    "    \n",
    "    # Calculate correction for every data sample\n",
    "    ratio = data_fit / data_cube\n",
    "    \n",
    "    # Create a ramp mask of pixels below saturation levels\n",
    "    mask_good = data_cube < 0.99*sat_vals\n",
    "    # Combine with active pixel mask\n",
    "    mask = mask_good & mask_act\n",
    "\n",
    "    # All data flattened into a single array\n",
    "    xv = data_cube[mask].flatten()\n",
    "    yv = ratio[mask].flatten()\n",
    "    \n",
    "    # Bin data\n",
    "    bsize = 1000\n",
    "    bins = np.arange(xv.min(), xv.max()+bsize, bsize)\n",
    "    ig, vg, cv = hist_indices(xv, bins=bins, return_more=True)\n",
    "    \n",
    "    # Grab indices that have non-negative data \n",
    "    well_max_fit = np.median(sat_vals)\n",
    "    nvals = np.array([len(i) for i in ig])\n",
    "    imask = (nvals>0) & (cv>=0) & (cv<well_max_fit)\n",
    "    ig_nozero = np.array(ig)[imask]\n",
    "    \n",
    "    # Take the median of data in each valid bin\n",
    "    xmed = np.array([np.median(xv[i]) for i in ig_nozero])\n",
    "    ymed = np.array([np.median(yv[i]) for i in ig_nozero])\n",
    "    \n",
    "    # Add data point for ratio of 1 at x=0\n",
    "    ifit = (ymed>=1)\n",
    "    xfit = np.concatenate(([0],xmed[ifit]))\n",
    "    yfit = np.concatenate(([1],ymed[ifit]))\n",
    "    \n",
    "    cf = jl_poly_fit(xfit, yfit, deg=7, robust_fit=True)\n",
    "    \n",
    "    if return_binvals:\n",
    "        return cf, xmed, ymed\n",
    "    else:\n",
    "        return cf\n"
   ]
  },
  {
   "cell_type": "markdown",
   "id": "solar-bride",
   "metadata": {},
   "source": [
    "## Linearity FITS Cubes\n",
    "\n",
    "Paths to linearity and superbias data."
   ]
  },
  {
   "cell_type": "code",
   "execution_count": 5,
   "id": "least-stanford",
   "metadata": {},
   "outputs": [],
   "source": [
    "import os\n",
    "\n",
    "flat_dir = '/Users/jarron/SHARK-NIR/20200215_Lin/Lin_250kHz/'\n",
    "flat_files = np.array([flat_dir + f for f in os.listdir(flat_dir) if f.endswith('.fits')])\n",
    "flat_files.sort()"
   ]
  },
  {
   "cell_type": "code",
   "execution_count": 6,
   "id": "present-messaging",
   "metadata": {},
   "outputs": [],
   "source": [
    "# Read in superbias image\n",
    "bias_path = '/Users/jarron/SHARK-NIR/20200220_Dark/SHARK-NIR_250Hz_superbias_example.fits'\n",
    "superbias = get_fits_data(bias_path)"
   ]
  },
  {
   "cell_type": "markdown",
   "id": "classified-competition",
   "metadata": {},
   "source": [
    "## Detector timing\n",
    "\n",
    "Define a detector timing object that houses all the necessary information concerning the pixel and frame clocking, detector size and output channels, etc."
   ]
  },
  {
   "cell_type": "code",
   "execution_count": 7,
   "id": "scientific-beginning",
   "metadata": {},
   "outputs": [
    {
     "name": "stdout",
     "output_type": "stream",
     "text": [
      "[    refpix:INFO] RAPID readout mode selected.\n",
      "[    refpix:INFO] Setting nf=1, nd1=0, nd2=0, nd3=0.\n"
     ]
    }
   ],
   "source": [
    "# Get shape information for input file\n",
    "hdul = fits.open(flat_files[0])\n",
    "nz, ny, nx = hdul[0].data.shape\n",
    "hdul.close()\n",
    "\n",
    "# Detector timing info\n",
    "if nx<2048 and ny<2048:\n",
    "    wind_mode = 'WINDOW'\n",
    "elif ny<2048:\n",
    "    wind_mode = 'STRIPE'\n",
    "else:\n",
    "    wind_mode = 'FULL'\n",
    "    \n",
    "det = ref_pixels.detops.det_timing(mode='SHARK_250', wind_mode=wind_mode, xpix=nx, ypix=ny, ngroup=nz)"
   ]
  },
  {
   "cell_type": "code",
   "execution_count": 8,
   "id": "administrative-encyclopedia",
   "metadata": {},
   "outputs": [
    {
     "name": "stdout",
     "output_type": "stream",
     "text": [
      "{'wind_mode': 'FULL', 'nout': 4, 'xpix': 2048, 'ypix': 2048, 'x0': 0, 'y0': 0}\n"
     ]
    }
   ],
   "source": [
    "# Double check basic frame size and setup information\n",
    "print(det.to_dict())"
   ]
  },
  {
   "cell_type": "code",
   "execution_count": 9,
   "id": "adopted-sunset",
   "metadata": {},
   "outputs": [
    {
     "data": {
      "text/plain": [
       "{'t_frame': 4.278316,\n",
       " 't_group': 4.278316,\n",
       " 't_int': 106.9579,\n",
       " 't_exp': 106.9579,\n",
       " 't_acq': 111.238304,\n",
       " 't_int_tot1': 111.236216,\n",
       " 't_int_tot2': 0.0}"
      ]
     },
     "execution_count": 9,
     "metadata": {},
     "output_type": "execute_result"
    }
   ],
   "source": [
    "# Check timing information makes sense\n",
    "det.times_to_dict()"
   ]
  },
  {
   "cell_type": "code",
   "execution_count": 10,
   "id": "august-throw",
   "metadata": {},
   "outputs": [
    {
     "name": "stdout",
     "output_type": "stream",
     "text": [
      "[  4.278316   8.556632  12.834948  17.113264  21.39158   25.669896\n",
      "  29.948212  34.226528  38.504844  42.78316   47.061476  51.339792\n",
      "  55.618108  59.896424  64.17474   68.453056  72.731372  77.009688\n",
      "  81.288004  85.56632   89.844636  94.122952  98.401268 102.679584\n",
      " 106.9579  ]\n"
     ]
    }
   ],
   "source": [
    "# Time array\n",
    "tarr = det.times_group_avg\n",
    "print(tarr)"
   ]
  },
  {
   "cell_type": "code",
   "execution_count": 11,
   "id": "aerial-verification",
   "metadata": {},
   "outputs": [],
   "source": [
    "# Active and reference pixel masks\n",
    "mask_ref = det.mask_ref\n",
    "mask_act = ~mask_ref"
   ]
  },
  {
   "cell_type": "markdown",
   "id": "narrow-mentor",
   "metadata": {},
   "source": [
    "## Calculate average ramp\n",
    "\n",
    "Call the function that will perform bias subtraction and reference pixel correction in order to cacluate the final linearity calibration function."
   ]
  },
  {
   "cell_type": "code",
   "execution_count": 12,
   "id": "precious-fairy",
   "metadata": {},
   "outputs": [
    {
     "data": {
      "application/vnd.jupyter.widget-view+json": {
       "model_id": "1f85b2ca82cf470ab15b4abcc8d0acef",
       "version_major": 2,
       "version_minor": 0
      },
      "text/plain": [
       "  0%|          | 0/20 [00:00<?, ?it/s]"
      ]
     },
     "metadata": {},
     "output_type": "display_data"
    }
   ],
   "source": [
    "# Keyword arguments to pass to reference pixel correction before slope fitting\n",
    "kw_refpix = {\n",
    "    'nchans': det.nout, 'altcol': True, 'in_place': True,\n",
    "    'fixcol': True, 'avg_type': 'pixel', 'savgol': True, 'perint': False\n",
    "}\n",
    "\n",
    "data_mean = gen_average_ramp(flat_files, det, bias=superbias, **kw_refpix)"
   ]
  },
  {
   "cell_type": "code",
   "execution_count": 13,
   "id": "cognitive-dating",
   "metadata": {},
   "outputs": [],
   "source": [
    "# Generate the linearity correction polynomial coefficients\n",
    "cf_lincorr, vals_dn, ratio = gen_lincorr(data_mean, det, return_binvals=True)"
   ]
  },
  {
   "cell_type": "markdown",
   "id": "northern-marsh",
   "metadata": {},
   "source": [
    "Coefficients `cf_lincorr` can then be used to generate the correction factor directly from flux values (after bias subtration and reference pixel correction):\n",
    "\n",
    "``` python\n",
    "# Assume vals are an array of uncorrected values\n",
    "corr_fact = jl_poly(vals, cf_lincorr)\n",
    "vals_corr = vals * corr_fact\n",
    "```"
   ]
  },
  {
   "cell_type": "code",
   "execution_count": 14,
   "id": "cardiovascular-pleasure",
   "metadata": {},
   "outputs": [],
   "source": [
    "# Create correction for average of pixel data\n",
    "# Don't correct reference pixels\n",
    "vals = np.median(data_mean[:,mask_act], axis=1) \n",
    "corr_fact = jl_poly(vals, cf_lincorr)\n",
    "vals_corr = vals * corr_fact\n",
    "\n",
    "# Check the correction compared to linear fit\n",
    "ifit = vals_corr < 40000\n",
    "cf = jl_poly_fit(tarr[ifit],vals_corr[ifit])\n",
    "frac_diff = (vals_corr - jl_poly(tarr, cf)) / vals_corr"
   ]
  },
  {
   "cell_type": "markdown",
   "id": "sophisticated-sewing",
   "metadata": {},
   "source": [
    "In the above cell, we created a median ramp of all active pixels, then perform the correction on those values. However, we could instead flip the order around such that we first perform the linearity correction on the entire cube, then take the median of the corrected ramp:\n",
    "\n",
    "``` python\n",
    "mask_ref = det.mask_ref\n",
    "mask_act = det.mask_act \n",
    "corr_fact_all = jl_poly(data_mean[:, mask_act].flatten(), cf_lincorr)\n",
    "# Create corrected cube\n",
    "data_mean_corr = np.zeros_like(data_mean)\n",
    "data_mean_corr[:, mask_act] = data_mean[:, mask_act] * corr_fact_all.reshape([data_mean.shape[0],-1])\n",
    "data_mean_corr[:, mask_ref] = data_mean[:, mask_ref]\n",
    "# Take median of all active pixels\n",
    "data_med = np.median(data_mean_corr[:,mask_act], axis=1)\n",
    "# Delete correction factor array\n",
    "del corr_fact_all \n",
    "```"
   ]
  },
  {
   "cell_type": "code",
   "execution_count": 15,
   "id": "aggressive-syria",
   "metadata": {},
   "outputs": [
    {
     "data": {
      "image/png": "[encoded data removed]",
      "text/plain": [
       "<Figure size 864x396 with 3 Axes>"
      ]
     },
     "metadata": {
      "needs_background": "light"
     },
     "output_type": "display_data"
    }
   ],
   "source": [
    "# Plot everything\n",
    "layout = \"\"\"\n",
    "    AACCC\n",
    "    BBCCC\n",
    "    \"\"\" \n",
    "fig = plt.figure(constrained_layout=True, figsize=(12,5.5))\n",
    "ax_dict = fig.subplot_mosaic(layout)\n",
    "\n",
    "# Linearity correction factor\n",
    "ax = ax_dict['A']\n",
    "ax.plot(vals_dn, ratio, ls='none', marker='.')\n",
    "xvals = np.linspace(0, 60000, 1000)\n",
    "ax.plot(xvals, jl_poly(xvals,cf_lincorr), lw=4, alpha=0.5)\n",
    "ax.set_title('Linearity Correction')\n",
    "ax.set_xlabel('Pixel Values (DN)')\n",
    "ax.set_ylabel('Correction Factor')\n",
    "\n",
    "# \n",
    "ax = ax_dict['B']\n",
    "iplot = vals<55000\n",
    "ax.plot(vals[iplot], 100*frac_diff[iplot])\n",
    "ax.set_ylim(np.array([-1,1])*np.max(np.abs(ax.get_ylim())))\n",
    "ax.set_xlim(ax_dict['A'].get_xlim())\n",
    "ax.set_title('Median Linear Deviation')\n",
    "ax.set_xlabel('Pixel Values (DN)')\n",
    "ax.set_ylabel('% Difference')\n",
    "\n",
    "ax = ax_dict['C']\n",
    "ax.plot(tarr, vals, label='Raw Data')\n",
    "ax.plot(tarr, vals_corr, label='Corrected Data')\n",
    "ifit = vals_corr < 60000\n",
    "cf = jl_poly_fit(tarr[ifit],vals_corr[ifit])\n",
    "tvals = np.linspace(0,tarr.max(),100)\n",
    "ax.plot(tvals, jl_poly(tvals, cf), label='Linear Function', ls='--')\n",
    "ax.set_title('Example Ramp Correction')\n",
    "ax.set_xlabel('Time (sec)')\n",
    "ax.set_ylabel('Values (DN)')\n",
    "ax.legend();"
   ]
  },
  {
   "cell_type": "code",
   "execution_count": 16,
   "id": "altered-conservation",
   "metadata": {},
   "outputs": [],
   "source": [
    "# Save linearity coefficients file\n",
    "outdir = '/Users/jarron/SHARK-NIR/20200215_Lin/'\n",
    "file_out = 'SHARK-NIR_250Hz_lincorr.npy'\n",
    "\n",
    "np.save(outdir + file_out, cf_lincorr)"
   ]
  },
  {
   "cell_type": "code",
   "execution_count": 17,
   "id": "disciplinary-irish",
   "metadata": {},
   "outputs": [],
   "source": [
    "corr_fact = np.zeros_like(data_mean)\n",
    "for i, cf in enumerate(cf_lincorr):\n",
    "    corr_fact += cf * data_mean**i\n",
    "        \n",
    "# Make sure reference pixels are excluded\n",
    "corr_fact[:, mask_ref] = 1\n",
    "data_corr = data_mean * corr_fact\n",
    "\n",
    "# Get saturation values\n",
    "sat_vals = find_sat(data_corr, ref_info=det.ref_info)\n",
    "del corr_fact, data_corr"
   ]
  },
  {
   "cell_type": "code",
   "execution_count": 19,
   "id": "seeing-avatar",
   "metadata": {},
   "outputs": [],
   "source": [
    "# Save saturation values to file\n",
    "outdir = '/Users/jarron/SHARK-NIR/20200215_Lin/'\n",
    "file_out = 'SHARK-NIR_250Hz_lincorr_satvals.fits'\n",
    "\n",
    "hdu = fits.PrimaryHDU(sat_vals)\n",
    "hdu.writeto(outdir + file_out, overwrite=True)"
   ]
  },
  {
   "cell_type": "code",
   "execution_count": null,
   "id": "transsexual-clinton",
   "metadata": {},
   "outputs": [],
   "source": []
  }
 ],
 "metadata": {
  "kernelspec": {
   "display_name": "Python 3",
   "language": "python",
   "name": "python3"
  },
  "language_info": {
   "codemirror_mode": {
    "name": "ipython",
    "version": 3
   },
   "file_extension": ".py",
   "mimetype": "text/x-python",
   "name": "python",
   "nbconvert_exporter": "python",
   "pygments_lexer": "ipython3",
   "version": "3.7.9"
  }
 },
 "nbformat": 4,
 "nbformat_minor": 5
}
